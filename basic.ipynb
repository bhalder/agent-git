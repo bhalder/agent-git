{
 "cells": [
  {
   "cell_type": "code",
   "execution_count": null,
   "id": "ed03e3c7-9f54-4e74-bea3-287f6fa7aa6f",
   "metadata": {},
   "outputs": [],
   "source": [
    "from sonic import App\n",
    "import os\n",
    "\n",
    "github_access_key = \"\"\n",
    "openai_api_key = \"\"\n",
    "repo_name = \"bhalder/agent-git\"\n",
    "\n",
    "\n",
    "os.environ['OPENAI_API_KEY'] = openai_api_key\n",
    "\n",
    "app = App(\n",
    "    \"short-term-rental\",\n",
    "    github_access_key,\n",
    "    repo_name,\n",
    "    system_message=\"You help write short-term rental ads for property owners\",\n",
    ")\n",
    "\n",
    "app.loop()"
   ]
  },
  {
   "cell_type": "markdown",
   "id": "d34d5006-2f10-4b7f-a299-3b60535607b9",
   "metadata": {},
   "source": [
    "# Steps to generate Personal Access Token on Github\n",
    "\n",
    "## Step 1: Access Token Settings\n",
    "\n",
    "    ### Log in to your GitHub account.\n",
    "    ### Click on your profile picture in the upper right corner.\n",
    "    ### Select Settings from the dropdown menu.\n",
    "    ### On the left sidebar, click on Developer settings.\n",
    "    ### Under Developer settings, click on Personal access tokens.\n",
    "    ### Press the Generate new token button.\n",
    "\n",
    "## Step 2: Generate Token\n",
    "\n",
    "    ### Give your token a name in the Note field to identify the purpose of the token.\n",
    "    ### Select the expiration for your token. Choose a suitable timeframe based on how long you need the token. If you're using the token in scripts or other automation, you might opt for no expiration.\n",
    "    Select the scopes or permissions you want to assign to this token. For read/write access to your repositories:\n",
    "    ### Check repo which includes all sub-permissions (repo:status, repo_deployment, public_repo, repo:invite, security_events).\n",
    "    ### This repo scope allows you to perform nearly all actions on repositories such as cloning, pushing, and pulling changes, managing repository settings, and handling webhooks and services.\n",
    "\n",
    "## Step 3: Finalize and Copy Your Token\n",
    "\n",
    "    ### Scroll to the bottom of the page and click on the Generate token button.\n",
    "    ### Copy your new personal access token. GitHub will only show the token once, so make sure to save it in a secure location. If you lose it, you'll need to generate a new one."
   ]
  },
  {
   "cell_type": "code",
   "execution_count": null,
   "id": "80b39f27-04b9-4919-a0a8-385a862f30b3",
   "metadata": {},
   "outputs": [],
   "source": []
  }
 ],
 "metadata": {
  "kernelspec": {
   "display_name": "Python 3 (ipykernel)",
   "language": "python",
   "name": "python3"
  },
  "language_info": {
   "codemirror_mode": {
    "name": "ipython",
    "version": 3
   },
   "file_extension": ".py",
   "mimetype": "text/x-python",
   "name": "python",
   "nbconvert_exporter": "python",
   "pygments_lexer": "ipython3",
   "version": "3.12.7"
  }
 },
 "nbformat": 4,
 "nbformat_minor": 5
}
