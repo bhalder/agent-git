{
 "cells": [
  {
   "cell_type": "code",
   "execution_count": 1,
   "id": "ed03e3c7-9f54-4e74-bea3-287f6fa7aa6f",
   "metadata": {},
   "outputs": [
    {
     "data": {
      "text/html": [
       "<p style='color: black; font-size: 20px; font-weight: bold;'>Welcome to the Agent Interaction Console!</p>"
      ],
      "text/plain": [
       "<IPython.core.display.HTML object>"
      ]
     },
     "metadata": {},
     "output_type": "display_data"
    },
    {
     "data": {
      "text/html": [
       "<p style='color: blue; font-size: 16px; font-weight: normal;'>1. Enter a new example</p>"
      ],
      "text/plain": [
       "<IPython.core.display.HTML object>"
      ]
     },
     "metadata": {},
     "output_type": "display_data"
    },
    {
     "data": {
      "text/html": [
       "<p style='color: blue; font-size: 16px; font-weight: normal;'>2. Generate an example</p>"
      ],
      "text/plain": [
       "<IPython.core.display.HTML object>"
      ]
     },
     "metadata": {},
     "output_type": "display_data"
    },
    {
     "data": {
      "text/html": [
       "<p style='color: blue; font-size: 16px; font-weight: normal;'>3. Exit</p>"
      ],
      "text/plain": [
       "<IPython.core.display.HTML object>"
      ]
     },
     "metadata": {},
     "output_type": "display_data"
    },
    {
     "name": "stdin",
     "output_type": "stream",
     "text": [
      "\n",
      "Choose an option (1, 2, or 3):  3\n"
     ]
    },
    {
     "data": {
      "text/html": [
       "<p style='color: red; font-size: 16px; font-weight: normal;'>Thank you for using the system. Exiting...</p>"
      ],
      "text/plain": [
       "<IPython.core.display.HTML object>"
      ]
     },
     "metadata": {},
     "output_type": "display_data"
    },
    {
     "name": "stdout",
     "output_type": "stream",
     "text": [
      "\u001b[H\u001b[2JWelcome to the agent!\n",
      "You can use this agent to improve the quality of the system prompt based on user feedback and the generated output.\n",
      "You can also generate examples based on a prompt.\n",
      "You can also save the examples and commit them to the repository.\n",
      "Project name:  None\n"
     ]
    },
    {
     "name": "stdout",
     "output_type": "stream",
     "text": [
      "Do you want to enter a new example (1), generate one (2), or exit (3)?  2\n",
      "What kind of example do you want to generate:  Generate a sales email\n"
     ]
    },
    {
     "name": "stderr",
     "output_type": "stream",
     "text": [
      "2025-02-09 16:23:11,106 - sonic.utils.logger - INFO - (llm.py:38) - Usage: Usage(completion_tokens=183, prompt_tokens=111, total_tokens=294, completion_tokens_details=CompletionTokensDetailsWrapper(accepted_prediction_tokens=0, audio_tokens=0, reasoning_tokens=0, rejected_prediction_tokens=0, text_tokens=None), prompt_tokens_details=PromptTokensDetailsWrapper(audio_tokens=0, cached_tokens=0, text_tokens=None, image_tokens=None))\n",
      "2025-02-09 16:23:11,108 - sonic.utils.logger - INFO - (llm.py:39) - Cost: 0.0021075000000000004\n",
      "2025-02-09 16:23:11,108 - sonic.utils.logger - INFO - (llm.py:43) - Response time: 3857.781ms\n",
      "2025-02-09 16:23:11,109 - sonic.utils.logger - INFO - (llm.py:45) - Generated response using model gpt-4o\n",
      "2025-02-09 16:23:11,110 - sonic.utils.logger - INFO - (base.py:80) - ModelResponse(id='chatcmpl-AzBrnexb2bEbOUbYvtI66ayhnIDwP', created=1739146987, model='gpt-4o-2024-08-06', object='chat.completion', system_fingerprint='fp_4691090a87', choices=[Choices(finish_reason='stop', index=0, message=Message(content='{\\n    \"example\": \"Subject: Unlock Exclusive Savings on Our Best-Selling Products!\\\\n\\\\nHi [Recipient\\'s Name],\\\\n\\\\nI hope this message finds you well! I\\'m excited to share an exclusive offer just for you. For a limited time, enjoy up to 30% off on our best-selling products. Whether you\\'re looking to upgrade your current setup or try something new, now is the perfect time to make a purchase.\\\\n\\\\nVisit our website and use the code SAVE30 at checkout to take advantage of this special discount. Hurry, this offer is only valid until [End Date].\\\\n\\\\nIf you have any questions or need assistance, feel free to reach out. We\\'re here to help!\\\\n\\\\nThank you for being a valued customer.\\\\n\\\\nBest regards,\\\\n\\\\n[Your Name]\\\\n[Your Position]\\\\n[Company Name]\\\\n[Contact Information]\"\\n}', role='assistant', tool_calls=None, function_call=None, provider_specific_fields={'refusal': None}, refusal=None))], usage=Usage(completion_tokens=183, prompt_tokens=111, total_tokens=294, completion_tokens_details=CompletionTokensDetailsWrapper(accepted_prediction_tokens=0, audio_tokens=0, reasoning_tokens=0, rejected_prediction_tokens=0, text_tokens=None), prompt_tokens_details=PromptTokensDetailsWrapper(audio_tokens=0, cached_tokens=0, text_tokens=None, image_tokens=None)), service_tier='default')\n",
      "2025-02-09 16:23:11,111 - sonic.utils.logger - INFO - (utils.py:31) - Response text: {\n",
      "    \"example\": \"Subject: Unlock Exclusive Savings on Our Best-Selling Products!\\n\\nHi [Recipient's Name],\\n\\nI hope this message finds you well! I'm excited to share an exclusive offer just for you. For a limited time, enjoy up to 30% off on our best-selling products. Whether you're looking to upgrade your current setup or try something new, now is the perfect time to make a purchase.\\n\\nVisit our website and use the code SAVE30 at checkout to take advantage of this special discount. Hurry, this offer is only valid until [End Date].\\n\\nIf you have any questions or need assistance, feel free to reach out. We're here to help!\\n\\nThank you for being a valued customer.\\n\\nBest regards,\\n\\n[Your Name]\\n[Your Position]\\n[Company Name]\\n[Contact Information]\"\n",
      "}\n"
     ]
    },
    {
     "name": "stdout",
     "output_type": "stream",
     "text": [
      "Generated example: Subject: Unlock Exclusive Savings on Our Best-Selling Products!\n",
      "\n",
      "Hi [Recipient's Name],\n",
      "\n",
      "I hope this message finds you well! I'm excited to share an exclusive offer just for you. For a limited time, enjoy up to 30% off on our best-selling products. Whether you're looking to upgrade your current setup or try something new, now is the perfect time to make a purchase.\n",
      "\n",
      "Visit our website and use the code SAVE30 at checkout to take advantage of this special discount. Hurry, this offer is only valid until [End Date].\n",
      "\n",
      "If you have any questions or need assistance, feel free to reach out. We're here to help!\n",
      "\n",
      "Thank you for being a valued customer.\n",
      "\n",
      "Best regards,\n",
      "\n",
      "[Your Name]\n",
      "[Your Position]\n",
      "[Company Name]\n",
      "[Contact Information]\n"
     ]
    },
    {
     "name": "stderr",
     "output_type": "stream",
     "text": [
      "2025-02-09 16:23:11,716 - sonic.utils.logger - INFO - (llm.py:38) - Usage: Usage(completion_tokens=10, prompt_tokens=335, total_tokens=345, completion_tokens_details=CompletionTokensDetailsWrapper(accepted_prediction_tokens=0, audio_tokens=0, reasoning_tokens=0, rejected_prediction_tokens=0, text_tokens=None), prompt_tokens_details=PromptTokensDetailsWrapper(audio_tokens=0, cached_tokens=0, text_tokens=None, image_tokens=None))\n",
      "2025-02-09 16:23:11,718 - sonic.utils.logger - INFO - (llm.py:39) - Cost: 0.0009375000000000001\n",
      "2025-02-09 16:23:11,718 - sonic.utils.logger - INFO - (llm.py:43) - Response time: 602.577ms\n",
      "2025-02-09 16:23:11,719 - sonic.utils.logger - INFO - (llm.py:45) - Generated response using model gpt-4o\n",
      "2025-02-09 16:23:11,720 - sonic.utils.logger - INFO - (base.py:80) - ModelResponse(id='chatcmpl-AzBrriqgnmNYdJAale0Zz4KStHMbe', created=1739146991, model='gpt-4o-2024-08-06', object='chat.completion', system_fingerprint='fp_50cad350e4', choices=[Choices(finish_reason='stop', index=0, message=Message(content='{\\n  \"response\": \"True\"\\n}', role='assistant', tool_calls=None, function_call=None, provider_specific_fields={'refusal': None}, refusal=None))], usage=Usage(completion_tokens=10, prompt_tokens=335, total_tokens=345, completion_tokens_details=CompletionTokensDetailsWrapper(accepted_prediction_tokens=0, audio_tokens=0, reasoning_tokens=0, rejected_prediction_tokens=0, text_tokens=None), prompt_tokens_details=PromptTokensDetailsWrapper(audio_tokens=0, cached_tokens=0, text_tokens=None, image_tokens=None)), service_tier='default')\n",
      "2025-02-09 16:23:11,720 - sonic.utils.logger - INFO - (utils.py:31) - Response text: {\n",
      "  \"response\": \"True\"\n",
      "}\n",
      "2025-02-09 16:23:11,721 - sonic.utils.logger - INFO - (agent.py:38) - Result: response='True'\n",
      "2025-02-09 16:23:11,721 - sonic.utils.logger - INFO - (agent.py:57) - All guardrails passed!\n"
     ]
    },
    {
     "name": "stdout",
     "output_type": "stream",
     "text": [
      "Output: response='True'\n"
     ]
    },
    {
     "name": "stdout",
     "output_type": "stream",
     "text": [
      "Enter your feedback:  This is good!\n"
     ]
    },
    {
     "name": "stderr",
     "output_type": "stream",
     "text": [
      "2025-02-09 16:23:37,828 - sonic.utils.logger - INFO - (llm.py:38) - Usage: Usage(completion_tokens=104, prompt_tokens=384, total_tokens=488, completion_tokens_details=CompletionTokensDetailsWrapper(accepted_prediction_tokens=0, audio_tokens=0, reasoning_tokens=0, rejected_prediction_tokens=0, text_tokens=None), prompt_tokens_details=PromptTokensDetailsWrapper(audio_tokens=0, cached_tokens=0, text_tokens=None, image_tokens=None))\n",
      "2025-02-09 16:23:37,829 - sonic.utils.logger - INFO - (llm.py:39) - Cost: 0.002\n",
      "2025-02-09 16:23:37,830 - sonic.utils.logger - INFO - (llm.py:43) - Response time: 2463.009ms\n",
      "2025-02-09 16:23:37,830 - sonic.utils.logger - INFO - (llm.py:45) - Generated response using model gpt-4o\n",
      "2025-02-09 16:23:37,830 - sonic.utils.logger - INFO - (base.py:80) - ModelResponse(id='chatcmpl-AzBsFzpg6EHXMcHlcOGHsKovlt0Xx', created=1739147015, model='gpt-4o-2024-08-06', object='chat.completion', system_fingerprint='fp_4691090a87', choices=[Choices(finish_reason='stop', index=0, message=Message(content='{\\n    \"prompt\": \"You are an intelligent text classification agent tasked with determining whether a given piece of text is a sales email. A sales email typically includes promotional content, discounts, offers, or attempts to persuade the recipient to purchase a product or service. Your task is to analyze the provided input and respond with \\'True\\' if it is a sales email and \\'False\\' if it is not. Ensure your response is strictly limited to \\'True\\' or \\'False\\' without any additional commentary or explanation.\"\\n}', role='assistant', tool_calls=None, function_call=None, provider_specific_fields={'refusal': None}, refusal=None))], usage=Usage(completion_tokens=104, prompt_tokens=384, total_tokens=488, completion_tokens_details=CompletionTokensDetailsWrapper(accepted_prediction_tokens=0, audio_tokens=0, reasoning_tokens=0, rejected_prediction_tokens=0, text_tokens=None), prompt_tokens_details=PromptTokensDetailsWrapper(audio_tokens=0, cached_tokens=0, text_tokens=None, image_tokens=None)), service_tier='default')\n",
      "2025-02-09 16:23:37,831 - sonic.utils.logger - INFO - (utils.py:31) - Response text: {\n",
      "    \"prompt\": \"You are an intelligent text classification agent tasked with determining whether a given piece of text is a sales email. A sales email typically includes promotional content, discounts, offers, or attempts to persuade the recipient to purchase a product or service. Your task is to analyze the provided input and respond with 'True' if it is a sales email and 'False' if it is not. Ensure your response is strictly limited to 'True' or 'False' without any additional commentary or explanation.\"\n",
      "}\n",
      "2025-02-09 16:23:37,831 - sonic.utils.logger - INFO - (__init__.py:123) - New system prompt: You are an intelligent text classification agent tasked with determining whether a given piece of text is a sales email. A sales email typically includes promotional content, discounts, offers, or attempts to persuade the recipient to purchase a product or service. Your task is to analyze the provided input and respond with 'True' if it is a sales email and 'False' if it is not. Ensure your response is strictly limited to 'True' or 'False' without any additional commentary or explanation.\n"
     ]
    },
    {
     "name": "stdout",
     "output_type": "stream",
     "text": [
      "New system prompt: You are an intelligent text classification agent tasked with determining whether a given piece of text is a sales email. A sales email typically includes promotional content, discounts, offers, or attempts to persuade the recipient to purchase a product or service. Your task is to analyze the provided input and respond with 'True' if it is a sales email and 'False' if it is not. Ensure your response is strictly limited to 'True' or 'False' without any additional commentary or explanation.\n"
     ]
    },
    {
     "name": "stdout",
     "output_type": "stream",
     "text": [
      "Do you want to save the examples and commit them to the repository? Yes (1) / No (2):  1\n"
     ]
    },
    {
     "ename": "ValueError",
     "evalue": "Project name is required to commit examples.",
     "output_type": "error",
     "traceback": [
      "\u001b[0;31m---------------------------------------------------------------------------\u001b[0m",
      "\u001b[0;31mValueError\u001b[0m                                Traceback (most recent call last)",
      "Cell \u001b[0;32mIn[1], line 13\u001b[0m\n\u001b[1;32m      5\u001b[0m repo_name \u001b[38;5;241m=\u001b[39m \u001b[38;5;124m\"\u001b[39m\u001b[38;5;124mbhalder/agent-git\u001b[39m\u001b[38;5;124m\"\u001b[39m\n\u001b[1;32m      7\u001b[0m app \u001b[38;5;241m=\u001b[39m App(\n\u001b[1;32m      8\u001b[0m     access_token,\n\u001b[1;32m      9\u001b[0m     repo_name,\n\u001b[1;32m     10\u001b[0m     system_message\u001b[38;5;241m=\u001b[39m\u001b[38;5;124m\"\u001b[39m\u001b[38;5;124man agent which generates string\u001b[39m\u001b[38;5;124m\"\u001b[39m,\n\u001b[1;32m     11\u001b[0m )\n\u001b[0;32m---> 13\u001b[0m \u001b[43mapp\u001b[49m\u001b[38;5;241;43m.\u001b[39;49m\u001b[43mloop\u001b[49m\u001b[43m(\u001b[49m\u001b[43m)\u001b[49m\n",
      "File \u001b[0;32m~/code/agent-git/sonic/__init__.py:161\u001b[0m, in \u001b[0;36mApp.loop\u001b[0;34m(self)\u001b[0m\n\u001b[1;32m    159\u001b[0m save_commit \u001b[38;5;241m=\u001b[39m \u001b[38;5;28minput\u001b[39m(\u001b[38;5;124m\"\u001b[39m\u001b[38;5;124mDo you want to save the examples and commit them to the repository? Yes (1) / No (2): \u001b[39m\u001b[38;5;124m\"\u001b[39m)\n\u001b[1;32m    160\u001b[0m \u001b[38;5;28;01mif\u001b[39;00m save_commit \u001b[38;5;241m==\u001b[39m \u001b[38;5;124m\"\u001b[39m\u001b[38;5;124m1\u001b[39m\u001b[38;5;124m\"\u001b[39m:\n\u001b[0;32m--> 161\u001b[0m     \u001b[38;5;28;43mself\u001b[39;49m\u001b[38;5;241;43m.\u001b[39;49m\u001b[43mcommit_examples\u001b[49m\u001b[43m(\u001b[49m\u001b[38;5;124;43m\"\u001b[39;49m\u001b[38;5;124;43mAdded examples\u001b[39;49m\u001b[38;5;124;43m\"\u001b[39;49m\u001b[43m)\u001b[49m\n\u001b[1;32m    162\u001b[0m     \u001b[38;5;28mself\u001b[39m\u001b[38;5;241m.\u001b[39mcommit(\u001b[38;5;124m\"\u001b[39m\u001b[38;5;124mUpdated system prompt\u001b[39m\u001b[38;5;124m\"\u001b[39m)\n\u001b[1;32m    163\u001b[0m     \u001b[38;5;28mprint\u001b[39m(\u001b[38;5;124m\"\u001b[39m\u001b[38;5;124mChanges committed successfully.\u001b[39m\u001b[38;5;124m\"\u001b[39m)\n",
      "File \u001b[0;32m~/code/agent-git/sonic/__init__.py:107\u001b[0m, in \u001b[0;36mApp.commit_examples\u001b[0;34m(self, commit_message)\u001b[0m\n\u001b[1;32m    100\u001b[0m     \u001b[38;5;28mself\u001b[39m\u001b[38;5;241m.\u001b[39mgit_helper\u001b[38;5;241m.\u001b[39mcommit(\n\u001b[1;32m    101\u001b[0m         \u001b[38;5;28mself\u001b[39m\u001b[38;5;241m.\u001b[39mproject_name,\n\u001b[1;32m    102\u001b[0m         commit_message,\n\u001b[1;32m    103\u001b[0m         json\u001b[38;5;241m.\u001b[39mdumps(d, indent\u001b[38;5;241m=\u001b[39m\u001b[38;5;241m4\u001b[39m),\n\u001b[1;32m    104\u001b[0m         \u001b[38;5;124m\"\u001b[39m\u001b[38;5;124mexamples.json\u001b[39m\u001b[38;5;124m\"\u001b[39m,\n\u001b[1;32m    105\u001b[0m     )\n\u001b[1;32m    106\u001b[0m \u001b[38;5;28;01melse\u001b[39;00m:\n\u001b[0;32m--> 107\u001b[0m     \u001b[38;5;28;01mraise\u001b[39;00m \u001b[38;5;167;01mValueError\u001b[39;00m(\u001b[38;5;124m\"\u001b[39m\u001b[38;5;124mProject name is required to commit examples.\u001b[39m\u001b[38;5;124m\"\u001b[39m)\n",
      "\u001b[0;31mValueError\u001b[0m: Project name is required to commit examples."
     ]
    }
   ],
   "source": [
    "from sonic import App\n",
    "\n",
    "access_token = \"\"\n",
    "repo_name = \"bhalder/agent-git\"\n",
    "\n",
    "app = App(\n",
    "    \"example\",\n",
    "    access_token,\n",
    "    repo_name,\n",
    "    system_message=\"an agent which generates string\",\n",
    ")\n",
    "\n",
    "app.loop()"
   ]
  },
  {
   "cell_type": "code",
   "execution_count": null,
   "id": "80b39f27-04b9-4919-a0a8-385a862f30b3",
   "metadata": {},
   "outputs": [],
   "source": []
  }
 ],
 "metadata": {
  "kernelspec": {
   "display_name": "Python 3 (ipykernel)",
   "language": "python",
   "name": "python3"
  },
  "language_info": {
   "codemirror_mode": {
    "name": "ipython",
    "version": 3
   },
   "file_extension": ".py",
   "mimetype": "text/x-python",
   "name": "python",
   "nbconvert_exporter": "python",
   "pygments_lexer": "ipython3",
   "version": "3.12.7"
  }
 },
 "nbformat": 4,
 "nbformat_minor": 5
}
